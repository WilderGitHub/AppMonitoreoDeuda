{
 "cells": [
  {
   "cell_type": "code",
   "execution_count": 1,
   "id": "dc599973",
   "metadata": {},
   "outputs": [],
   "source": [
    "#string='PAGO A PROEX -BRASIL PRÉSTAMO CFA009759 VCTO. 08-09-2022 POR CUENTA DE TGN , NTI. 016483 VALOR 08-09-2022 CAPITAL USD 91.133,09 INTERESES EUR 363.608,09'\n",
    "#string='PAGO A AFD PRÉSTAMO CBO-1006-01-F VCTO. 10-08-2022 POR CUENTA DE ENDE , VALOR 10-08-2022 CAPITAL EUR 2.068.965,52 INTERESES EUR 187.282,99'\n",
    "string='PAGO A BID PRÉSTAMO 2460/BL-BO VCTO. 19-07-2022 POR CUENTA DE GOB.AUT.DEPT.CHUQUIS , VALOR 19-07-2022 CAPITAL USD 206.328,00 INTERESES USD 159.306,06'\n",
    "#string='TRANSFERENCIA RECIBIDA DEL EXTERIOR SEGÚN MENSAJES SWIFT Nos. 12555-12554 (REM.EXT.) DE FECHA 28-07-2022 POR DESEMBOLSO DE CAF PRÉSTAMO CAF011750 APOYO PLAN DE VACUNACIÓN COVID 19    '\n",
    "#string='PAGO A KFW ALEMANIA PRÉSTAMO KfW 200965608 VCTO. 30-06-2022 POR CUENTA DE TGN , NTI. 016217 VALOR 30-06-2022  INTERESES EUR 3.153,54 COMISIONES EUR 11.448,82     '\n",
    "#string='VENTA DE DIVISAS CON TRANSFERENCIA DE FONDOS A SOLICITUD DE UNIVERSIDAD MAYOR DE SAN ANDRES SEGUN SOLICITUD 16099 REF: SOLICITUD DE VENTA DE DIVISAS AL EXTERIOR DEL PAGO AL DOC.EXT. JUAN FERNANDO CORDOBA MARENTES DOC.MODULO '\n",
    "string=\"'TRANSFERENCIA'||RECIBIDA DEL EXTERIOR SEGÚN MENSAJES SWIFT NOS. 1135-1134 (REM.EXT.) DE FECHA 27-01-2022 POR DESEMBOLSO DE LA OPEP PRÉSTAMO 12601P WA NO.02.       \"\n",
    "\n",
    "arch='goideuda 2022.xls'\n",
    "casosEspeciales=['BID','CAF','IDA']\n",
    "menosEstas=['cve_debe_haber','cod_moneda','cod_movimiento','esdeuda','DesembPtmo','','']\n",
    "import re\n"
   ]
  },
  {
   "cell_type": "code",
   "execution_count": 2,
   "id": "5b1bdbbb",
   "metadata": {},
   "outputs": [],
   "source": [
    "# JUNCIONES en modulo diferente oe\n",
    "import os\n",
    "from dbfread import DBF\n",
    "import pandas as pd\n",
    "import warnings\n",
    "warnings.simplefilter(action='ignore', category=FutureWarning)\n",
    "def getExtension(archivo):\n",
    "    extension = os.path.splitext(archivo)[1]\n",
    "    return extension\n",
    "def leer(nombreArchivo):\n",
    "    if getExtension(nombreArchivo) == '.dbf':\n",
    "        table = DBF(nombreArchivo, encoding='latin', load=True)\n",
    "        return pd.DataFrame(iter(table))\n",
    "    else:\n",
    "        #para los que no son dbf\n",
    "        return pd.read_excel(nombreArchivo)\n",
    "def reducirColumnas (nombreArchivo,ddff):\n",
    "        if getExtension (nombreArchivo) == '.dbf':\n",
    "            bdReducida = ddff.loc[:, ('fecha_dia', 'cve_debe_h', 'monto_mo','factor_conv_mo_mn',\n",
    "                                     'cod_moneda', 'cod_movimi', 'nom_movimi',\n",
    "                                         'monto_mn', 'glosa_comp', 'nro_compro', 'cod_mayor')]\n",
    "        else:\n",
    "\n",
    "            bdReducida = ddff.loc[:, ('fecha_dia', 'cve_debe_haber', 'monto_mo','factor_conv_mo_mn',\n",
    "                                     'cod_moneda', 'cod_movimiento', 'nom_movimiento',\n",
    "                                         'monto_mn', 'glosa_comprob', 'nro_comprob', 'cod_mayor')]\n",
    "        return bdReducida"
   ]
  },
  {
   "cell_type": "code",
   "execution_count": 3,
   "id": "de8ab25b",
   "metadata": {},
   "outputs": [],
   "source": [
    "def extraeMonto(texto,key):\n",
    "    x = re.findall(key, texto)\n",
    "    if x:\n",
    "        xx=x[0][1].replace('.','').replace(',','.').replace(';','')\n",
    "        try:\n",
    "            float(xx)\n",
    "        except:\n",
    "            monto=\"algo\"\n",
    "        else:\n",
    "            monto=float(xx)\n",
    "        #y=[x[0][0],float(xx)]\n",
    "        return monto\n",
    "\n",
    "def extraeMoneda(texto,key):\n",
    "    x = re.findall(key, texto)\n",
    "    if x:\n",
    "        try:\n",
    "            x[0][0]\n",
    "        except:\n",
    "            moneda=\"---\"\n",
    "        else:\n",
    "            moneda=x[0][0]\n",
    "        return moneda\n",
    "    \n",
    "def extraeEntidades(texto,key):\n",
    "    x = re.findall(key, texto)\n",
    "    if x:\n",
    "        if x[0]:\n",
    "            return str(x[0])\n",
    "        else:\n",
    "            return \"nd\"\n",
    "\n",
    "def extraeEntidadPtmoDesemb(texto,key,flag):\n",
    "    x = re.findall(key, texto)\n",
    "    if x:\n",
    "        if x[0]:\n",
    "            if flag==1:\n",
    "                return str(x[0][1])\n",
    "            else:\n",
    "                return str(x[0][0])\n",
    "        else:\n",
    "            return \"nd\"\n",
    "\n",
    "\n",
    "\n",
    "def extraePtmoDesemb(x):\n",
    "    if x['DesembAcreedor'] in casosEspeciales:\n",
    "        return extraeEntidadPtmoDesemb(x['glosa_comprob'],ptmoDesemb,1)\n",
    "    else:\n",
    "        return extraeEntidadPtmoDesemb(x['glosa_comprob'],ptmoDesemb,0)\n",
    "    \n",
    "def separa(s):\n",
    "    letras='([A-Z])'\n",
    "    numeros='(\\d+)'\n",
    "    x = re.findall(letras, s)\n",
    "    y = re.findall(numeros, s)\n",
    "    xx=''.join(x) if x else 'nuay'\n",
    "    yy=int(y[0]) if y else 'nuay'\n",
    "    return [xx,yy]"
   ]
  },
  {
   "cell_type": "code",
   "execution_count": 4,
   "id": "a31a3cf1",
   "metadata": {},
   "outputs": [],
   "source": [
    "mayores = [10,381,404,406]\n",
    "montos=['CAPITAL ','INTERESES ','COMISIONES ']\n",
    "desAcree=['DESEMBOLSO DE ','(?= PRÉSTAMO)']\n",
    "desPtmo=['POR DESEMBOLSO DE \\w+ PRÉSTAMO ',' ']\n",
    "\n",
    "akey=['PAGO A ','(?= PRÉSTAMO)']\n",
    "pkey=['PRÉSTAMO ',' VCTO.']\n",
    "dkey=['POR CUENTA DE ',' ,']\n",
    "\n",
    "buscaMontos = '(\\w+) ((\\w+)($|\\S+))'\n",
    "buscaEntidades ='(.+?)'\n",
    "\n",
    "buscaEntidades1 ='((.+?) (.+?)|(.+?))'\n",
    "\n",
    "acreedorDesemb=desAcree[0]+buscaEntidades+desAcree[1]\n",
    "ptmoDesemb=desPtmo[0]+buscaEntidades1+desPtmo[1]\n",
    "\n",
    "acreedor=akey[0]+buscaEntidades+akey[1]\n",
    "ptmo=pkey[0]+buscaEntidades+pkey[1]\n",
    "deudor=dkey[0]+buscaEntidades+dkey[1]"
   ]
  },
  {
   "cell_type": "code",
   "execution_count": 5,
   "id": "a51e5db1",
   "metadata": {},
   "outputs": [
    {
     "name": "stdout",
     "output_type": "stream",
     "text": [
      "WARNING *** file size (64334084) not 512 + multiple of sector size (512)\n",
      "WARNING *** OLE2 inconsistency: SSCS size is 0 but SSAT size is non-zero\n",
      "bruta (39764, 11)\n",
      "reudcida  (39764, 11)\n"
     ]
    }
   ],
   "source": [
    "bdBruto = leer(arch)\n",
    "bdBruto.columns = map(str.lower, bdBruto.columns)\n",
    "bdBruto=reducirColumnas(arch,bdBruto)        \n",
    "print(\"bruta\",bdBruto.shape)\n",
    "print (\"reudcida \", reducirColumnas(arch,bdBruto).shape)#\n",
    "#bdBruto.columns\n",
    "#bdBruto.head()"
   ]
  },
  {
   "cell_type": "code",
   "execution_count": 6,
   "id": "919287db",
   "metadata": {},
   "outputs": [],
   "source": [
    "def esdeuda(texto,criterio1,criterio2):\n",
    "    if extraeEntidades(texto,criterio1) or extraeEntidades(texto,criterio2):\n",
    "        return True\n",
    "    else:\n",
    "        return False"
   ]
  },
  {
   "cell_type": "code",
   "execution_count": 7,
   "id": "a65bcb08",
   "metadata": {
    "scrolled": true
   },
   "outputs": [],
   "source": [
    "bdBruto[\"esdeuda\"] = bdBruto[\"glosa_comprob\"].map(lambda x:esdeuda(x,acreedor,acreedorDesemb))\n",
    "bdDeuda=bdBruto[bdBruto[\"esdeuda\"]==True]\n",
    "bdDeuda= bdDeuda[bdDeuda[\"cod_mayor\"].isin(mayores)]\n",
    "#bdDeuda.head()\n",
    "#bdDeuda.shape"
   ]
  },
  {
   "cell_type": "code",
   "execution_count": 8,
   "id": "039d196f",
   "metadata": {},
   "outputs": [],
   "source": [
    "def montoDesembolsado (x):\n",
    "    if x['cve_debe_haber']==\"D\":\n",
    "        #normalmente es Dólares, pero podrían haber otras monedas, hay que generalizar la fórmula oe.\n",
    "        return round(x['monto_mn']/x['factor_conv_mo_mn'],2)\n",
    "def montoPagadoK(x):\n",
    "    if x['cve_debe_haber']==\"H\":\n",
    "        try:\n",
    "            x[\"PagoCapitalMO\"]*x['factor_conv_mo_mn']\n",
    "        except:\n",
    "            return None\n",
    "        else:    \n",
    "            return round(x[\"PagoCapitalMO\"]*x['factor_conv_mo_mn']/6.86,2)\n",
    "        \n",
    "def montoPagadoI(x):\n",
    "    if x['cve_debe_haber']==\"H\":\n",
    "        try:\n",
    "            x[\"PagoInteresesMO\"]*x['factor_conv_mo_mn']\n",
    "        except:\n",
    "            return None\n",
    "        else:    \n",
    "            return round(x[\"PagoInteresesMO\"]*x['factor_conv_mo_mn']/6.86,2)   \n",
    "def montoPagadoC(x):\n",
    "    if x['cve_debe_haber']==\"H\":\n",
    "        try:\n",
    "            x[\"PagoComisionesMO\"]*x['factor_conv_mo_mn']\n",
    "        except:\n",
    "            return None\n",
    "        else:    \n",
    "            return round(x[\"PagoComisionesMO\"]*x['factor_conv_mo_mn']/6.86,2)   "
   ]
  },
  {
   "cell_type": "code",
   "execution_count": 9,
   "id": "9a7323d6",
   "metadata": {},
   "outputs": [],
   "source": [
    "       \n",
    "bdDeuda[\"DesembAcreedor\"]=bdBruto[\"glosa_comprob\"].map(lambda x:extraeEntidades(x,acreedorDesemb))\n",
    "bdDeuda[\"DesembPtmo\"]=bdBruto[\"glosa_comprob\"].map(lambda x:extraeEntidades(x,ptmoDesemb))\n",
    "bdDeuda[\"DesembPtmoX\"]=bdDeuda.apply(extraePtmoDesemb, axis=1)\n",
    "\n",
    "bdDeuda[\"DesembEn$us\"]=bdBruto.apply(montoDesembolsado, axis=1)\n",
    "\n",
    "bdDeuda[\"ServicioAcreedor\"]=bdBruto[\"glosa_comprob\"].map(lambda x:extraeEntidades(x,acreedor))\n",
    "bdDeuda[\"ServicioPtmo\"]=bdBruto[\"glosa_comprob\"].map(lambda x:extraeEntidades(x,ptmo))\n",
    "bdDeuda[\"ServicioDeudor\"]=bdBruto[\"glosa_comprob\"].map(lambda x:extraeEntidades(x,deudor))\n",
    "#moneda= extraeMontos(string,montos[2]+buscaMontos)[0]\n",
    "#print(moneda)\n",
    "bdDeuda[\"MonedaCapital\"]=bdBruto[\"glosa_comprob\"].map(lambda x:extraeMoneda(x,montos[0]+buscaMontos))\n",
    "bdDeuda[\"PagoCapitalMO\"]=bdBruto[\"glosa_comprob\"].map(lambda x:extraeMonto(x,montos[0]+buscaMontos))\n",
    "bdDeuda[\"PagoCapital$us\"]=bdDeuda.apply(montoPagadoK, axis=1)\n",
    "\n",
    "bdDeuda[\"MonedaIntereses\"]=bdBruto[\"glosa_comprob\"].map(lambda x:extraeMoneda(x,montos[1]+buscaMontos))\n",
    "bdDeuda[\"PagoInteresesMO\"]=bdBruto[\"glosa_comprob\"].map(lambda x:extraeMonto(x,montos[1]+buscaMontos))\n",
    "bdDeuda[\"PagoIntereses$us\"]=bdDeuda.apply(montoPagadoI, axis=1)\n",
    "\n",
    "bdDeuda[\"MonedaComisiones\"]=bdBruto[\"glosa_comprob\"].map(lambda x:extraeMoneda(x,montos[2]+buscaMontos))\n",
    "bdDeuda[\"PagoComisionesMO\"]=bdBruto[\"glosa_comprob\"].map(lambda x:extraeMonto(x,montos[2]+buscaMontos))\n",
    "bdDeuda[\"PagoComisiones$us\"]=bdDeuda.apply(montoPagadoC, axis=1)\n",
    "\n",
    "#bdDeuda.to_excel(\"borrar.xlsx\")\n",
    "\n",
    "#bdDeuda.head()\n",
    "\n"
   ]
  },
  {
   "cell_type": "code",
   "execution_count": 10,
   "id": "f44832c8",
   "metadata": {},
   "outputs": [],
   "source": [
    "bdDeudaOK=bdDeuda.loc[:, ~bdDeuda.columns.isin(menosEstas)]\n",
    "bdDeudaOK.to_excel(\"borrar1.xlsx\", index=False)"
   ]
  },
  {
   "cell_type": "code",
   "execution_count": null,
   "id": "d14b0f0c",
   "metadata": {},
   "outputs": [],
   "source": []
  },
  {
   "cell_type": "code",
   "execution_count": null,
   "id": "6f125216",
   "metadata": {},
   "outputs": [],
   "source": []
  },
  {
   "cell_type": "code",
   "execution_count": null,
   "id": "30d6744b",
   "metadata": {},
   "outputs": [],
   "source": []
  },
  {
   "cell_type": "code",
   "execution_count": null,
   "id": "d5379aca",
   "metadata": {},
   "outputs": [],
   "source": []
  },
  {
   "cell_type": "code",
   "execution_count": 11,
   "id": "ee4cc8af",
   "metadata": {},
   "outputs": [
    {
     "name": "stdout",
     "output_type": "stream",
     "text": [
      "este seria el acreedor del desembolso LA OPEP\n"
     ]
    },
    {
     "ename": "TypeError",
     "evalue": "extraePtmoDesemb() takes 1 positional argument but 2 were given",
     "output_type": "error",
     "traceback": [
      "\u001b[1;31m---------------------------------------------------------------------------\u001b[0m",
      "\u001b[1;31mTypeError\u001b[0m                                 Traceback (most recent call last)",
      "Input \u001b[1;32mIn [11]\u001b[0m, in \u001b[0;36m<module>\u001b[1;34m\u001b[0m\n\u001b[0;32m      1\u001b[0m \u001b[38;5;28mprint\u001b[39m(\u001b[38;5;124m\"\u001b[39m\u001b[38;5;124meste seria el acreedor del desembolso\u001b[39m\u001b[38;5;124m\"\u001b[39m,extraeEntidades(string,acreedorDesemb))\n\u001b[1;32m----> 2\u001b[0m \u001b[38;5;28mprint\u001b[39m(\u001b[38;5;124m\"\u001b[39m\u001b[38;5;124meste seria el ptmo del desembolso\u001b[39m\u001b[38;5;124m\"\u001b[39m,\u001b[43mextraePtmoDesemb\u001b[49m\u001b[43m(\u001b[49m\u001b[43mstring\u001b[49m\u001b[43m,\u001b[49m\u001b[43mptmoDesemb\u001b[49m\u001b[43m)\u001b[49m)\n\u001b[0;32m      3\u001b[0m \u001b[38;5;28mprint\u001b[39m(\u001b[38;5;124m\"\u001b[39m\u001b[38;5;124mdatos del prestamo del desembolso \u001b[39m\u001b[38;5;124m\"\u001b[39m,separa(\u001b[38;5;28mstr\u001b[39m(extraeEntidades(string,ptmoDesemb))))\n\u001b[0;32m      4\u001b[0m \u001b[38;5;28mprint\u001b[39m(\u001b[38;5;124m\"\u001b[39m\u001b[38;5;124m-----------------\u001b[39m\u001b[38;5;124m\"\u001b[39m)\n",
      "\u001b[1;31mTypeError\u001b[0m: extraePtmoDesemb() takes 1 positional argument but 2 were given"
     ]
    }
   ],
   "source": [
    "print(\"este seria el acreedor del desembolso\",extraeEntidades(string,acreedorDesemb))\n",
    "print(\"este seria el ptmo del desembolso\",extraePtmoDesemb(string,ptmoDesemb))\n",
    "print(\"datos del prestamo del desembolso \",separa(str(extraeEntidades(string,ptmoDesemb))))\n",
    "print(\"-----------------\")\n",
    "print(\"este seria el acreedor\",extraeEntidades(string,acreedor))\n",
    "print(\"este seria el prestamo\",extraeEntidades(string,ptmo))\n",
    "print(\"datos del prestamo\",separa(str(extraeEntidades(string,ptmo))))\n",
    "print(\"este seria el deudor\",extraeEntidades(string,deudor))\n",
    "print(\"-----------------\")\n",
    "print(\"este seria el capital\",extraeMontos(string,monto[0]+buscaMontos))\n",
    "print(\"este seria el interes\",extraeMontos(string,monto[1]+buscaMontos))\n",
    "print(\"este seria la comision\",extraeMontos(string,monto[2]+buscaMontos))\n"
   ]
  },
  {
   "cell_type": "code",
   "execution_count": null,
   "id": "5e38503d",
   "metadata": {},
   "outputs": [],
   "source": []
  },
  {
   "cell_type": "code",
   "execution_count": null,
   "id": "8325d4a6",
   "metadata": {},
   "outputs": [],
   "source": [
    "\n",
    "print(\"este seria el acreedor del desembolso\",extraeEntidades(string,acreedorDesemb))\n",
    "print(\"este seria el ptmo del desembolso\",extraeEntidades(string,ptmoDesemb))\n",
    "print(\"datos del prestamo del desembolso \",separa(str(extraeEntidades(string,ptmoDesemb))))\n",
    "\n",
    "print(\"este seria el prestamo\",extraeEntidades(string,ptmo))\n",
    "print(\"datos del prestamo\",separa(str(extraeEntidades(string,ptmo))))\n",
    "print(\"este seria el acreedor\",extraeEntidades(string,acreedor))\n",
    "print(\"este seria el deudor\",extraeEntidades(string,deudor))\n",
    "\n",
    "print(\"este seria el capital\",extraeMontos(string,montos[0]+buscaMontos))\n",
    "print(\"este seria el interes\",extraeMontos(string,montos[1]+buscaMontos))\n",
    "print(\"este seria la comision\",extraeMontos(string,montos[2]+buscaMontos))\n"
   ]
  },
  {
   "cell_type": "code",
   "execution_count": null,
   "id": "cbb9702c",
   "metadata": {},
   "outputs": [],
   "source": []
  }
 ],
 "metadata": {
  "kernelspec": {
   "display_name": "Python 3 (ipykernel)",
   "language": "python",
   "name": "python3"
  },
  "language_info": {
   "codemirror_mode": {
    "name": "ipython",
    "version": 3
   },
   "file_extension": ".py",
   "mimetype": "text/x-python",
   "name": "python",
   "nbconvert_exporter": "python",
   "pygments_lexer": "ipython3",
   "version": "3.8.7"
  }
 },
 "nbformat": 4,
 "nbformat_minor": 5
}
